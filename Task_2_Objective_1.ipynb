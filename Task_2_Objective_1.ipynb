{
 "cells": [
  {
   "cell_type": "code",
   "execution_count": 2,
   "metadata": {},
   "outputs": [],
   "source": [
    "import pandas as pd\n",
    "\n",
    "# 讀取資料集\n",
    "feeds_df = pd.read_csv('/Users/castle/Desktop/中研院/Data/train/train_data_feeds.csv')\n",
    "ads_df = pd.read_csv('/Users/castle/Desktop/中研院/Data/train/train_data_ads.csv')\n",
    "# 讀取資料集 並建立一個僅有user_id的子集\n",
    "feeds_user_ids = pd.read_csv('/Users/castle/Desktop/中研院/Data/train/train_data_feeds.csv', usecols=['u_userId'])\n",
    "ads_user_ids = pd.read_csv('/Users/castle/Desktop/中研院/Data/train/train_data_ads.csv', usecols=['user_id'])\n"
   ]
  },
  {
   "cell_type": "code",
   "execution_count": 4,
   "metadata": {},
   "outputs": [],
   "source": [
    "# 找出非潛在客戶：在 feeds.csv 中出現但未出現在 ad.csv 的 user_id\n",
    "non_potential_customers = feeds_user_ids[~feeds_user_ids['u_userId'].isin(ads_user_ids['user_id'])]\n",
    "\n",
    "# 找出潛在客戶：在 feeds.csv 中出現並且也在 ad.csv 中出現的 user_id\n",
    "potential_customers = feeds_user_ids[feeds_user_ids['u_userId'].isin(ads_user_ids['user_id'])]\n",
    "\n",
    "# 去除重複值\n",
    "non_potential_customers = non_potential_customers.drop_duplicates()\n",
    "potential_customers = potential_customers.drop_duplicates()\n",
    "\n"
   ]
  },
  {
   "cell_type": "code",
   "execution_count": 15,
   "metadata": {},
   "outputs": [
    {
     "name": "stdout",
     "output_type": "stream",
     "text": [
      "<class 'pandas.core.frame.DataFrame'>\n",
      "Int64Index: 65297 entries, 11 to 3227701\n",
      "Data columns (total 1 columns):\n",
      " #   Column    Non-Null Count  Dtype\n",
      "---  ------    --------------  -----\n",
      " 0   u_userId  65297 non-null  int64\n",
      "dtypes: int64(1)\n",
      "memory usage: 1020.3 KB\n"
     ]
    },
    {
     "data": {
      "text/html": [
       "<div>\n",
       "<style scoped>\n",
       "    .dataframe tbody tr th:only-of-type {\n",
       "        vertical-align: middle;\n",
       "    }\n",
       "\n",
       "    .dataframe tbody tr th {\n",
       "        vertical-align: top;\n",
       "    }\n",
       "\n",
       "    .dataframe thead th {\n",
       "        text-align: right;\n",
       "    }\n",
       "</style>\n",
       "<table border=\"1\" class=\"dataframe\">\n",
       "  <thead>\n",
       "    <tr style=\"text-align: right;\">\n",
       "      <th></th>\n",
       "      <th>u_userId</th>\n",
       "    </tr>\n",
       "  </thead>\n",
       "  <tbody>\n",
       "    <tr>\n",
       "      <th>11</th>\n",
       "      <td>116738</td>\n",
       "    </tr>\n",
       "    <tr>\n",
       "      <th>29</th>\n",
       "      <td>109694</td>\n",
       "    </tr>\n",
       "    <tr>\n",
       "      <th>32</th>\n",
       "      <td>160271</td>\n",
       "    </tr>\n",
       "    <tr>\n",
       "      <th>43</th>\n",
       "      <td>142555</td>\n",
       "    </tr>\n",
       "    <tr>\n",
       "      <th>56</th>\n",
       "      <td>262553</td>\n",
       "    </tr>\n",
       "  </tbody>\n",
       "</table>\n",
       "</div>"
      ],
      "text/plain": [
       "    u_userId\n",
       "11    116738\n",
       "29    109694\n",
       "32    160271\n",
       "43    142555\n",
       "56    262553"
      ]
     },
     "execution_count": 15,
     "metadata": {},
     "output_type": "execute_result"
    }
   ],
   "source": [
    "#觀察數據\n",
    "potential_customers.info()\n",
    "potential_customers.head()"
   ]
  },
  {
   "cell_type": "code",
   "execution_count": 16,
   "metadata": {},
   "outputs": [
    {
     "name": "stdout",
     "output_type": "stream",
     "text": [
      "<class 'pandas.core.frame.DataFrame'>\n",
      "Int64Index: 114826 entries, 0 to 3227445\n",
      "Data columns (total 1 columns):\n",
      " #   Column    Non-Null Count   Dtype\n",
      "---  ------    --------------   -----\n",
      " 0   u_userId  114826 non-null  int64\n",
      "dtypes: int64(1)\n",
      "memory usage: 1.8 MB\n"
     ]
    },
    {
     "data": {
      "text/html": [
       "<div>\n",
       "<style scoped>\n",
       "    .dataframe tbody tr th:only-of-type {\n",
       "        vertical-align: middle;\n",
       "    }\n",
       "\n",
       "    .dataframe tbody tr th {\n",
       "        vertical-align: top;\n",
       "    }\n",
       "\n",
       "    .dataframe thead th {\n",
       "        text-align: right;\n",
       "    }\n",
       "</style>\n",
       "<table border=\"1\" class=\"dataframe\">\n",
       "  <thead>\n",
       "    <tr style=\"text-align: right;\">\n",
       "      <th></th>\n",
       "      <th>u_userId</th>\n",
       "    </tr>\n",
       "  </thead>\n",
       "  <tbody>\n",
       "    <tr>\n",
       "      <th>0</th>\n",
       "      <td>135880</td>\n",
       "    </tr>\n",
       "    <tr>\n",
       "      <th>54</th>\n",
       "      <td>186805</td>\n",
       "    </tr>\n",
       "    <tr>\n",
       "      <th>55</th>\n",
       "      <td>241297</td>\n",
       "    </tr>\n",
       "    <tr>\n",
       "      <th>57</th>\n",
       "      <td>218336</td>\n",
       "    </tr>\n",
       "    <tr>\n",
       "      <th>59</th>\n",
       "      <td>234202</td>\n",
       "    </tr>\n",
       "  </tbody>\n",
       "</table>\n",
       "</div>"
      ],
      "text/plain": [
       "    u_userId\n",
       "0     135880\n",
       "54    186805\n",
       "55    241297\n",
       "57    218336\n",
       "59    234202"
      ]
     },
     "execution_count": 16,
     "metadata": {},
     "output_type": "execute_result"
    }
   ],
   "source": [
    "non_potential_customers.info()\n",
    "non_potential_customers.head()"
   ]
  },
  {
   "cell_type": "code",
   "execution_count": 17,
   "metadata": {},
   "outputs": [
    {
     "name": "stdout",
     "output_type": "stream",
     "text": [
      "<class 'pandas.core.frame.DataFrame'>\n",
      "Int64Index: 751889 entries, 0 to 751888\n",
      "Data columns (total 28 columns):\n",
      " #   Column                Non-Null Count   Dtype \n",
      "---  ------                --------------   ----- \n",
      " 0   u_userId              751889 non-null  int64 \n",
      " 1   u_phonePrice          751889 non-null  int64 \n",
      " 2   u_browserLifeCycle    751889 non-null  int64 \n",
      " 3   u_browserMode         751889 non-null  int64 \n",
      " 4   u_feedLifeCycle       751889 non-null  int64 \n",
      " 5   u_refreshTimes        751889 non-null  int64 \n",
      " 6   u_newsCatInterests    751889 non-null  object\n",
      " 7   u_newsCatDislike      751889 non-null  object\n",
      " 8   u_newsCatInterestsST  751889 non-null  object\n",
      " 9   u_click_ca2_news      751889 non-null  object\n",
      " 10  i_docId               751889 non-null  object\n",
      " 11  i_s_sourceId          751889 non-null  object\n",
      " 12  i_regionEntity        751889 non-null  int64 \n",
      " 13  i_cat                 751889 non-null  int64 \n",
      " 14  i_entities            729245 non-null  object\n",
      " 15  i_dislikeTimes        751889 non-null  int64 \n",
      " 16  i_upTimes             751889 non-null  int64 \n",
      " 17  i_dtype               751889 non-null  int64 \n",
      " 18  e_ch                  751889 non-null  int64 \n",
      " 19  e_m                   751889 non-null  int64 \n",
      " 20  e_po                  751889 non-null  int64 \n",
      " 21  e_pl                  751889 non-null  int64 \n",
      " 22  e_rn                  751889 non-null  int64 \n",
      " 23  e_section             751889 non-null  int64 \n",
      " 24  e_et                  751889 non-null  int64 \n",
      " 25  label                 751889 non-null  int64 \n",
      " 26  cillabel              751889 non-null  int64 \n",
      " 27  pro                   751889 non-null  int64 \n",
      "dtypes: int64(21), object(7)\n",
      "memory usage: 166.4+ MB\n"
     ]
    }
   ],
   "source": [
    "\n",
    "# 使用非潛在客戶和潛在客戶的 user_id 去對應 feeds.csv 的其他欄位資料    \n",
    "non_potential_customers_data = pd.merge(non_potential_customers[non_potential_customers['u_userId'].isin(feeds_df['u_userId'])], feeds_df, how='left', left_on='u_userId', right_on='u_userId')\n",
    "non_potential_customers_data.info()"
   ]
  },
  {
   "cell_type": "code",
   "execution_count": 20,
   "metadata": {},
   "outputs": [],
   "source": [
    "# 找出 feeds 資料集中，user_id 出現在 ads 資料集裡的資料\n",
    "potential_customers_data = feeds_df[feeds_df['u_userId'].isin(ads_df['user_id'])]"
   ]
  },
  {
   "cell_type": "code",
   "execution_count": 21,
   "metadata": {},
   "outputs": [
    {
     "name": "stdout",
     "output_type": "stream",
     "text": [
      "<class 'pandas.core.frame.DataFrame'>\n",
      "Int64Index: 2475843 entries, 11 to 3227728\n",
      "Data columns (total 28 columns):\n",
      " #   Column                Dtype \n",
      "---  ------                ----- \n",
      " 0   u_userId              int64 \n",
      " 1   u_phonePrice          int64 \n",
      " 2   u_browserLifeCycle    int64 \n",
      " 3   u_browserMode         int64 \n",
      " 4   u_feedLifeCycle       int64 \n",
      " 5   u_refreshTimes        int64 \n",
      " 6   u_newsCatInterests    object\n",
      " 7   u_newsCatDislike      object\n",
      " 8   u_newsCatInterestsST  object\n",
      " 9   u_click_ca2_news      object\n",
      " 10  i_docId               object\n",
      " 11  i_s_sourceId          object\n",
      " 12  i_regionEntity        int64 \n",
      " 13  i_cat                 int64 \n",
      " 14  i_entities            object\n",
      " 15  i_dislikeTimes        int64 \n",
      " 16  i_upTimes             int64 \n",
      " 17  i_dtype               int64 \n",
      " 18  e_ch                  int64 \n",
      " 19  e_m                   int64 \n",
      " 20  e_po                  int64 \n",
      " 21  e_pl                  int64 \n",
      " 22  e_rn                  int64 \n",
      " 23  e_section             int64 \n",
      " 24  e_et                  int64 \n",
      " 25  label                 int64 \n",
      " 26  cillabel              int64 \n",
      " 27  pro                   int64 \n",
      "dtypes: int64(21), object(7)\n",
      "memory usage: 547.8+ MB\n"
     ]
    }
   ],
   "source": [
    "potential_customers_data.info()"
   ]
  },
  {
   "cell_type": "code",
   "execution_count": 22,
   "metadata": {},
   "outputs": [
    {
     "name": "stdout",
     "output_type": "stream",
     "text": [
      "<class 'pandas.core.frame.DataFrame'>\n",
      "Int64Index: 751889 entries, 0 to 751888\n",
      "Data columns (total 28 columns):\n",
      " #   Column                Non-Null Count   Dtype \n",
      "---  ------                --------------   ----- \n",
      " 0   u_userId              751889 non-null  int64 \n",
      " 1   u_phonePrice          751889 non-null  int64 \n",
      " 2   u_browserLifeCycle    751889 non-null  int64 \n",
      " 3   u_browserMode         751889 non-null  int64 \n",
      " 4   u_feedLifeCycle       751889 non-null  int64 \n",
      " 5   u_refreshTimes        751889 non-null  int64 \n",
      " 6   u_newsCatInterests    751889 non-null  object\n",
      " 7   u_newsCatDislike      751889 non-null  object\n",
      " 8   u_newsCatInterestsST  751889 non-null  object\n",
      " 9   u_click_ca2_news      751889 non-null  object\n",
      " 10  i_docId               751889 non-null  object\n",
      " 11  i_s_sourceId          751889 non-null  object\n",
      " 12  i_regionEntity        751889 non-null  int64 \n",
      " 13  i_cat                 751889 non-null  int64 \n",
      " 14  i_entities            729245 non-null  object\n",
      " 15  i_dislikeTimes        751889 non-null  int64 \n",
      " 16  i_upTimes             751889 non-null  int64 \n",
      " 17  i_dtype               751889 non-null  int64 \n",
      " 18  e_ch                  751889 non-null  int64 \n",
      " 19  e_m                   751889 non-null  int64 \n",
      " 20  e_po                  751889 non-null  int64 \n",
      " 21  e_pl                  751889 non-null  int64 \n",
      " 22  e_rn                  751889 non-null  int64 \n",
      " 23  e_section             751889 non-null  int64 \n",
      " 24  e_et                  751889 non-null  int64 \n",
      " 25  label                 751889 non-null  int64 \n",
      " 26  cillabel              751889 non-null  int64 \n",
      " 27  pro                   751889 non-null  int64 \n",
      "dtypes: int64(21), object(7)\n",
      "memory usage: 166.4+ MB\n"
     ]
    }
   ],
   "source": [
    "non_potential_customers_data.info() "
   ]
  },
  {
   "cell_type": "code",
   "execution_count": 23,
   "metadata": {},
   "outputs": [
    {
     "name": "stdout",
     "output_type": "stream",
     "text": [
      "CSV files have been created successfully.\n"
     ]
    }
   ],
   "source": [
    "# 將結果存成CSV檔案\n",
    "non_potential_customers_data.to_csv('non_potential_customers_data.csv', index=False)\n",
    "potential_customers_data.to_csv('potential_customers_data.csv', index=False)\n",
    "\n",
    "print(\"CSV files have been created successfully.\")\n"
   ]
  }
 ],
 "metadata": {
  "kernelspec": {
   "display_name": "Python 3",
   "language": "python",
   "name": "python3"
  },
  "language_info": {
   "codemirror_mode": {
    "name": "ipython",
    "version": 3
   },
   "file_extension": ".py",
   "mimetype": "text/x-python",
   "name": "python",
   "nbconvert_exporter": "python",
   "pygments_lexer": "ipython3",
   "version": "3.9.7"
  }
 },
 "nbformat": 4,
 "nbformat_minor": 2
}
